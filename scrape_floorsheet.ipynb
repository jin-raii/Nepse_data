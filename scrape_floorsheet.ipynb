{
 "cells": [
  {
   "cell_type": "code",
   "execution_count": 136,
   "metadata": {},
   "outputs": [],
   "source": [
    "from selenium import webdriver\n",
    "from selenium.webdriver.common.by import By\n",
    "from datetime import datetime\n",
    "from bs4 import BeautifulSoup\n",
    "import pandas as pd\n",
    "from selenium.common.exceptions import NoSuchElementException\n",
    "from selenium.webdriver.chrome.options import Options\n",
    "import sys"
   ]
  },
  {
   "cell_type": "code",
   "execution_count": 137,
   "metadata": {},
   "outputs": [],
   "source": [
    "def search(driver, date):\n",
    "    \"\"\"\n",
    "    Date in mm/dd/yyyy\n",
    "    \"\"\"\n",
    "    try:\n",
    "        driver.get(\"https://merolagani.com/Floorsheet.aspx\")\n",
    "        try:\n",
    "            alert = driver.switch_to.alert\n",
    "            print(f'Alert detected {alert.text}')\n",
    "            alert.dismis()\n",
    "        except Exception as e:\n",
    "            pass\n",
    "        date_element_path = '/html/body/form/div[4]/div[4]/div/div/div[1]/div[4]/input'\n",
    "        search_element_path2 = '/html/body/form/div[4]/div[4]/div/div/div[2]/a[1]'\n",
    "        date_input = driver.find_element(By.XPATH, date_element_path)\n",
    "        search_btn = driver.find_element(By.XPATH, search_element_path2)\n",
    "        # date_input = driver.find_element_by_xpath()\n",
    "        # search_btn = driver.find_element_by_xpath()\n",
    "        date_input.send_keys('02/13/2025')\n",
    "        print(search_btn)\n",
    "        search_btn.click()\n",
    "    except Exception as e:\n",
    "        print(e)\n",
    "    # if driver.find_elements(By.XPATH, \"//*[contains(text(), 'Could not find floorsheet matching the search criteria')]\"):\n",
    "    #     print(\"No data found for the given search.\")\n",
    "    #     print(\"Aborting script ......\")\n",
    "    #     sys.exit()"
   ]
  },
  {
   "cell_type": "code",
   "execution_count": 138,
   "metadata": {},
   "outputs": [
    {
     "data": {
      "text/plain": [
       "'02/15/2025'"
      ]
     },
     "execution_count": 138,
     "metadata": {},
     "output_type": "execute_result"
    }
   ],
   "source": [
    "date"
   ]
  },
  {
   "cell_type": "code",
   "execution_count": 139,
   "metadata": {},
   "outputs": [],
   "source": [
    "def get_page_table(driver, table_class):\n",
    "    soup = BeautifulSoup(driver.page_source,'html')\n",
    "    table = soup.find(\"table\", {\"class\":table_class})\n",
    "    tab_data = [[cell.text.replace('\\r', '').replace('\\n', '') for cell in row.find_all([\"th\",\"td\"])]\n",
    "                        for row in table.find_all(\"tr\")]\n",
    "    df = pd.DataFrame(tab_data)\n",
    "    return df"
   ]
  },
  {
   "cell_type": "code",
   "execution_count": 140,
   "metadata": {},
   "outputs": [],
   "source": [
    "def scrape_data(driver, date):\n",
    "    start_time = datetime.now()\n",
    "    search(driver,'02/13/2025')\n",
    "    df = pd.DataFrame()\n",
    "    while True:\n",
    "        page_table_df = get_page_table(driver, table_class=\"table table-bordered table-striped table-hover sortable\")\n",
    "        print(page_table_df)\n",
    "        df = df.append(page_table_df, ignore_index = True)\n",
    "        try:\n",
    "            next_btn = driver.find_element_by_link_text('Next')\n",
    "            driver.execute_script(\"arguments[0].click();\", next_btn)\n",
    "        except NoSuchElementException:\n",
    "            break\n",
    "    print(f\"Time taken to scrape: {datetime.now() - start_time}\")    \n",
    "    return df"
   ]
  },
  {
   "cell_type": "code",
   "execution_count": 141,
   "metadata": {},
   "outputs": [],
   "source": [
    "def clean_df(df):\n",
    "    new_df = df.drop_duplicates(keep='first') # Dropping Duplicates\n",
    "    new_header = new_df.iloc[0] # grabing the first row for the header\n",
    "    new_df = new_df[1:] # taking the data lower than the header row\n",
    "    new_df.columns = new_header # setting the header row as the df header\n",
    "    new_df.drop([\"#\"], axis=1, inplace=True)\n",
    "    new_df[\"Rate\"] = new_df[\"Rate\"].apply(lambda x:float(x.replace(\",\", \"\"))) # Convert Rate to Float\n",
    "    new_df[\"Amount\"] = new_df[\"Amount\"].apply(lambda x:float(x.replace(\",\", \"\"))) # Convert Amount to Float\n",
    "    return new_df"
   ]
  },
  {
   "cell_type": "code",
   "execution_count": 142,
   "metadata": {},
   "outputs": [
    {
     "name": "stdout",
     "output_type": "stream",
     "text": [
      "<selenium.webdriver.remote.webelement.WebElement (session=\"be1a4f5d6dbb4c35c96bc9985512fdb7\", element=\"f.1AAED206929C755148A248E0C7B90772.d.7E01DD821CB5A16B29975620F1F31D7C.e.93\")>\n",
      "Alert Text: Do you want to receive notifications?\n",
      "Message: unexpected alert open: {Alert text : Do you want to receive notifications?}\n",
      "  (Session info: chrome=133.0.6943.98)\n",
      "Stacktrace:\n",
      "#0 0x60eac4649bba <unknown>\n",
      "#1 0x60eac40e7790 <unknown>\n",
      "#2 0x60eac41857a0 <unknown>\n",
      "#3 0x60eac415e823 <unknown>\n",
      "#4 0x60eac412aa88 <unknown>\n",
      "#5 0x60eac412bbf1 <unknown>\n",
      "#6 0x60eac461315b <unknown>\n",
      "#7 0x60eac46170e2 <unknown>\n",
      "#8 0x60eac460001c <unknown>\n",
      "#9 0x60eac4617cd4 <unknown>\n",
      "#10 0x60eac45e448f <unknown>\n",
      "#11 0x60eac46384f8 <unknown>\n",
      "#12 0x60eac46386c9 <unknown>\n",
      "#13 0x60eac4648a36 <unknown>\n",
      "#14 0x7934d969caa4 <unknown>\n",
      "#15 0x7934d9729c3c <unknown>\n",
      "\n",
      "       0                 1       2      3       4         5         6  \\\n",
      "0      #     Transact. No.  Symbol  Buyer  Seller  Quantity      Rate   \n",
      "1      1  2025021305016233     BBC     96      14        10  5,587.00   \n",
      "2      2  2025021305015830     BBC     22       1        30  5,520.00   \n",
      "3      3  2025021305015829     BBC      6       1        10  5,522.00   \n",
      "4      4  2025021305015828     BBC     26       1        10  5,523.00   \n",
      "..   ...               ...     ...    ...     ...       ...       ...   \n",
      "496  496  2025021305016111   VLUCL     17      32        10    770.00   \n",
      "497  497  2025021305016110   VLUCL     17      50     1,200    769.00   \n",
      "498  498  2025021305016109   VLUCL     17      36       200    769.00   \n",
      "499  499  2025021305016108   VLUCL     17      63        49    769.00   \n",
      "500  500  2025021305016107   VLUCL     17      32        11    768.00   \n",
      "\n",
      "              7  \n",
      "0        Amount  \n",
      "1     55,870.00  \n",
      "2    165,600.00  \n",
      "3     55,220.00  \n",
      "4     55,230.00  \n",
      "..          ...  \n",
      "496    7,700.00  \n",
      "497  922,800.00  \n",
      "498  153,800.00  \n",
      "499   37,681.00  \n",
      "500    8,448.00  \n",
      "\n",
      "[501 rows x 8 columns]\n"
     ]
    },
    {
     "ename": "AttributeError",
     "evalue": "'DataFrame' object has no attribute 'append'",
     "output_type": "error",
     "traceback": [
      "\u001b[0;31m---------------------------------------------------------------------------\u001b[0m",
      "\u001b[0;31mAttributeError\u001b[0m                            Traceback (most recent call last)",
      "\u001b[0;32m/tmp/ipykernel_27491/3175520527.py\u001b[0m in \u001b[0;36m?\u001b[0;34m()\u001b[0m\n\u001b[1;32m      4\u001b[0m \u001b[0mdriver\u001b[0m \u001b[0;34m=\u001b[0m \u001b[0mwebdriver\u001b[0m\u001b[0;34m.\u001b[0m\u001b[0mChrome\u001b[0m\u001b[0;34m(\u001b[0m\u001b[0moptions\u001b[0m\u001b[0;34m=\u001b[0m\u001b[0moptions\u001b[0m\u001b[0;34m)\u001b[0m \u001b[0;31m# Start Browser\u001b[0m\u001b[0;34m\u001b[0m\u001b[0;34m\u001b[0m\u001b[0m\n\u001b[1;32m      5\u001b[0m \u001b[0;34m\u001b[0m\u001b[0m\n\u001b[1;32m      6\u001b[0m \u001b[0mdate\u001b[0m \u001b[0;34m=\u001b[0m \u001b[0mdatetime\u001b[0m\u001b[0;34m.\u001b[0m\u001b[0mtoday\u001b[0m\u001b[0;34m(\u001b[0m\u001b[0;34m)\u001b[0m\u001b[0;34m.\u001b[0m\u001b[0mstrftime\u001b[0m\u001b[0;34m(\u001b[0m\u001b[0;34m'%m/%d/%Y'\u001b[0m\u001b[0;34m)\u001b[0m \u001b[0;31m# Get today's date\u001b[0m\u001b[0;34m\u001b[0m\u001b[0;34m\u001b[0m\u001b[0m\n\u001b[1;32m      7\u001b[0m \u001b[0msearch\u001b[0m\u001b[0;34m(\u001b[0m\u001b[0mdriver\u001b[0m\u001b[0;34m,\u001b[0m \u001b[0;34m'02/13/2025'\u001b[0m\u001b[0;34m)\u001b[0m \u001b[0;31m# Search the webpage\u001b[0m\u001b[0;34m\u001b[0m\u001b[0;34m\u001b[0m\u001b[0m\n\u001b[0;32m----> 8\u001b[0;31m \u001b[0mdf\u001b[0m \u001b[0;34m=\u001b[0m \u001b[0mscrape_data\u001b[0m\u001b[0;34m(\u001b[0m\u001b[0mdriver\u001b[0m\u001b[0;34m,\u001b[0m \u001b[0mdate\u001b[0m\u001b[0;34m)\u001b[0m \u001b[0;31m# Scraping\u001b[0m\u001b[0;34m\u001b[0m\u001b[0;34m\u001b[0m\u001b[0m\n\u001b[0m\u001b[1;32m      9\u001b[0m \u001b[0mfinal_df\u001b[0m \u001b[0;34m=\u001b[0m \u001b[0mclean_df\u001b[0m\u001b[0;34m(\u001b[0m\u001b[0mdf\u001b[0m\u001b[0;34m)\u001b[0m \u001b[0;31m# Cleaning\u001b[0m\u001b[0;34m\u001b[0m\u001b[0;34m\u001b[0m\u001b[0m\n",
      "\u001b[0;32m/tmp/ipykernel_27491/2224393308.py\u001b[0m in \u001b[0;36m?\u001b[0;34m(driver, date)\u001b[0m\n\u001b[1;32m      4\u001b[0m     \u001b[0mdf\u001b[0m \u001b[0;34m=\u001b[0m \u001b[0mpd\u001b[0m\u001b[0;34m.\u001b[0m\u001b[0mDataFrame\u001b[0m\u001b[0;34m(\u001b[0m\u001b[0;34m)\u001b[0m\u001b[0;34m\u001b[0m\u001b[0;34m\u001b[0m\u001b[0m\n\u001b[1;32m      5\u001b[0m     \u001b[0;32mwhile\u001b[0m \u001b[0;32mTrue\u001b[0m\u001b[0;34m:\u001b[0m\u001b[0;34m\u001b[0m\u001b[0;34m\u001b[0m\u001b[0m\n\u001b[1;32m      6\u001b[0m         \u001b[0mpage_table_df\u001b[0m \u001b[0;34m=\u001b[0m \u001b[0mget_page_table\u001b[0m\u001b[0;34m(\u001b[0m\u001b[0mdriver\u001b[0m\u001b[0;34m,\u001b[0m \u001b[0mtable_class\u001b[0m\u001b[0;34m=\u001b[0m\u001b[0;34m\"table table-bordered table-striped table-hover sortable\"\u001b[0m\u001b[0;34m)\u001b[0m\u001b[0;34m\u001b[0m\u001b[0;34m\u001b[0m\u001b[0m\n\u001b[1;32m      7\u001b[0m         \u001b[0mprint\u001b[0m\u001b[0;34m(\u001b[0m\u001b[0mpage_table_df\u001b[0m\u001b[0;34m)\u001b[0m\u001b[0;34m\u001b[0m\u001b[0;34m\u001b[0m\u001b[0m\n\u001b[0;32m----> 8\u001b[0;31m         \u001b[0mdf\u001b[0m \u001b[0;34m=\u001b[0m \u001b[0mdf\u001b[0m\u001b[0;34m.\u001b[0m\u001b[0mappend\u001b[0m\u001b[0;34m(\u001b[0m\u001b[0mpage_table_df\u001b[0m\u001b[0;34m,\u001b[0m \u001b[0mignore_index\u001b[0m \u001b[0;34m=\u001b[0m \u001b[0;32mTrue\u001b[0m\u001b[0;34m)\u001b[0m\u001b[0;34m\u001b[0m\u001b[0;34m\u001b[0m\u001b[0m\n\u001b[0m\u001b[1;32m      9\u001b[0m         \u001b[0;32mtry\u001b[0m\u001b[0;34m:\u001b[0m\u001b[0;34m\u001b[0m\u001b[0;34m\u001b[0m\u001b[0m\n\u001b[1;32m     10\u001b[0m             \u001b[0mnext_btn\u001b[0m \u001b[0;34m=\u001b[0m \u001b[0mdriver\u001b[0m\u001b[0;34m.\u001b[0m\u001b[0mfind_element_by_link_text\u001b[0m\u001b[0;34m(\u001b[0m\u001b[0;34m'Next'\u001b[0m\u001b[0;34m)\u001b[0m\u001b[0;34m\u001b[0m\u001b[0;34m\u001b[0m\u001b[0m\n\u001b[1;32m     11\u001b[0m             \u001b[0mdriver\u001b[0m\u001b[0;34m.\u001b[0m\u001b[0mexecute_script\u001b[0m\u001b[0;34m(\u001b[0m\u001b[0;34m\"arguments[0].click();\"\u001b[0m\u001b[0;34m,\u001b[0m \u001b[0mnext_btn\u001b[0m\u001b[0;34m)\u001b[0m\u001b[0;34m\u001b[0m\u001b[0;34m\u001b[0m\u001b[0m\n",
      "\u001b[0;32m~/nepse_data/nepse-data/.venv/lib/python3.11/site-packages/pandas/core/generic.py\u001b[0m in \u001b[0;36m?\u001b[0;34m(self, name)\u001b[0m\n\u001b[1;32m   6295\u001b[0m             \u001b[0;32mand\u001b[0m \u001b[0mname\u001b[0m \u001b[0;32mnot\u001b[0m \u001b[0;32min\u001b[0m \u001b[0mself\u001b[0m\u001b[0;34m.\u001b[0m\u001b[0m_accessors\u001b[0m\u001b[0;34m\u001b[0m\u001b[0;34m\u001b[0m\u001b[0m\n\u001b[1;32m   6296\u001b[0m             \u001b[0;32mand\u001b[0m \u001b[0mself\u001b[0m\u001b[0;34m.\u001b[0m\u001b[0m_info_axis\u001b[0m\u001b[0;34m.\u001b[0m\u001b[0m_can_hold_identifiers_and_holds_name\u001b[0m\u001b[0;34m(\u001b[0m\u001b[0mname\u001b[0m\u001b[0;34m)\u001b[0m\u001b[0;34m\u001b[0m\u001b[0;34m\u001b[0m\u001b[0m\n\u001b[1;32m   6297\u001b[0m         ):\n\u001b[1;32m   6298\u001b[0m             \u001b[0;32mreturn\u001b[0m \u001b[0mself\u001b[0m\u001b[0;34m[\u001b[0m\u001b[0mname\u001b[0m\u001b[0;34m]\u001b[0m\u001b[0;34m\u001b[0m\u001b[0;34m\u001b[0m\u001b[0m\n\u001b[0;32m-> 6299\u001b[0;31m         \u001b[0;32mreturn\u001b[0m \u001b[0mobject\u001b[0m\u001b[0;34m.\u001b[0m\u001b[0m__getattribute__\u001b[0m\u001b[0;34m(\u001b[0m\u001b[0mself\u001b[0m\u001b[0;34m,\u001b[0m \u001b[0mname\u001b[0m\u001b[0;34m)\u001b[0m\u001b[0;34m\u001b[0m\u001b[0;34m\u001b[0m\u001b[0m\n\u001b[0m",
      "\u001b[0;31mAttributeError\u001b[0m: 'DataFrame' object has no attribute 'append'"
     ]
    }
   ],
   "source": [
    "options = Options()\n",
    "options.headless = True\n",
    "options.add_argument('--disable-notifications')\n",
    "driver = webdriver.Chrome(options=options) # Start Browser\n",
    "\n",
    "date = datetime.today().strftime('%m/%d/%Y') # Get today's date\n",
    "search(driver, '02/13/2025') # Search the webpage\n",
    "df = scrape_data(driver, date) # Scraping\n",
    "final_df = clean_df(df) # Cleaning"
   ]
  },
  {
   "cell_type": "code",
   "execution_count": 7,
   "metadata": {},
   "outputs": [
    {
     "ename": "NameError",
     "evalue": "name 'final_df' is not defined",
     "output_type": "error",
     "traceback": [
      "\u001b[0;31m---------------------------------------------------------------------------\u001b[0m",
      "\u001b[0;31mNameError\u001b[0m                                 Traceback (most recent call last)",
      "Cell \u001b[0;32mIn[7], line 1\u001b[0m\n\u001b[0;32m----> 1\u001b[0m \u001b[43mfinal_df\u001b[49m\u001b[38;5;241m.\u001b[39mhead()\n",
      "\u001b[0;31mNameError\u001b[0m: name 'final_df' is not defined"
     ]
    }
   ],
   "source": [
    "final_df.head()"
   ]
  },
  {
   "cell_type": "code",
   "execution_count": null,
   "metadata": {},
   "outputs": [],
   "source": [
    "file_name = date.replace(\"/\", \"_\")\n",
    "final_df.to_csv(f\"data/{file_name}.csv\", index=False) # Save file"
   ]
  }
 ],
 "metadata": {
  "kernelspec": {
   "display_name": ".venv",
   "language": "python",
   "name": "python3"
  },
  "language_info": {
   "codemirror_mode": {
    "name": "ipython",
    "version": 3
   },
   "file_extension": ".py",
   "mimetype": "text/x-python",
   "name": "python",
   "nbconvert_exporter": "python",
   "pygments_lexer": "ipython3",
   "version": "3.11.10"
  }
 },
 "nbformat": 4,
 "nbformat_minor": 4
}
